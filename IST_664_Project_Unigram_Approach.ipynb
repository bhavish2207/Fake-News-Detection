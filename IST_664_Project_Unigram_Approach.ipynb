{
  "nbformat": 4,
  "nbformat_minor": 0,
  "metadata": {
    "kernelspec": {
      "display_name": "Python 3",
      "language": "python",
      "name": "python3"
    },
    "language_info": {
      "codemirror_mode": {
        "name": "ipython",
        "version": 3
      },
      "file_extension": ".py",
      "mimetype": "text/x-python",
      "name": "python",
      "nbconvert_exporter": "python",
      "pygments_lexer": "ipython3",
      "version": "3.7.1"
    },
    "colab": {
      "name": "IST 664 Project Bag of Words.ipynb",
      "provenance": [],
      "collapsed_sections": [],
      "toc_visible": true
    }
  },
  "cells": [
    {
      "cell_type": "markdown",
      "metadata": {
        "id": "Q4OmsdLtfEVA",
        "colab_type": "text"
      },
      "source": [
        "# IST 664: Final Project\n",
        "## Bag of Words: Unigram Approach"
      ]
    },
    {
      "cell_type": "markdown",
      "metadata": {
        "id": "nVi1Cf229j3c",
        "colab_type": "text"
      },
      "source": [
        "### Importing All the Necessary Libraries"
      ]
    },
    {
      "cell_type": "code",
      "metadata": {
        "id": "PKj6iTBW9j3k",
        "colab_type": "code",
        "colab": {
          "base_uri": "https://localhost:8080/",
          "height": 139
        },
        "outputId": "138badd1-d93b-4c61-d4d5-5861443d679d"
      },
      "source": [
        "import nltk \n",
        "import numpy  as np\n",
        "import pandas as pd\n",
        "import matplotlib.pyplot as plt\n",
        "import math\n",
        "import seaborn as sns\n",
        "sns.set(style=\"darkgrid\")\n",
        "import re\n",
        "from nltk import FreqDist\n",
        "nltk.download('punkt')\n",
        "nltk.download('stopwords')\n",
        "from sklearn.naive_bayes import GaussianNB ,MultinomialNB, BernoulliNB, ComplementNB\n",
        "from sklearn.svm import SVC , LinearSVC #support vector Machine\n",
        "from sklearn.ensemble import RandomForestClassifier, GradientBoostingClassifier\n",
        "from sklearn.model_selection import train_test_split, GridSearchCV\n",
        "from sklearn.preprocessing import StandardScaler\n",
        "from sklearn import metrics\n",
        "from sklearn.metrics import confusion_matrix\n",
        "from sklearn.metrics import classification_report\n",
        "from sklearn.metrics import roc_curve\n",
        "from sklearn.metrics import roc_auc_score\n",
        "from sklearn.utils import shuffle\n",
        "import warnings\n",
        "warnings.filterwarnings('ignore')"
      ],
      "execution_count": 1,
      "outputs": [
        {
          "output_type": "stream",
          "text": [
            "/usr/local/lib/python3.6/dist-packages/statsmodels/tools/_testing.py:19: FutureWarning: pandas.util.testing is deprecated. Use the functions in the public API at pandas.testing instead.\n",
            "  import pandas.util.testing as tm\n"
          ],
          "name": "stderr"
        },
        {
          "output_type": "stream",
          "text": [
            "[nltk_data] Downloading package punkt to /root/nltk_data...\n",
            "[nltk_data]   Unzipping tokenizers/punkt.zip.\n",
            "[nltk_data] Downloading package stopwords to /root/nltk_data...\n",
            "[nltk_data]   Unzipping corpora/stopwords.zip.\n"
          ],
          "name": "stdout"
        }
      ]
    },
    {
      "cell_type": "markdown",
      "metadata": {
        "id": "gFQSh3Cr9j31",
        "colab_type": "text"
      },
      "source": [
        "### Importing True and Fake News Data Sets"
      ]
    },
    {
      "cell_type": "code",
      "metadata": {
        "id": "eGJlnoGF9j33",
        "colab_type": "code",
        "colab": {}
      },
      "source": [
        "df_true = pd.read_csv(\"True.csv\")\n",
        "df_fake = pd.read_csv(\"Fake.csv\")"
      ],
      "execution_count": 2,
      "outputs": []
    },
    {
      "cell_type": "markdown",
      "metadata": {
        "id": "v-2hbhkl9j4G",
        "colab_type": "text"
      },
      "source": [
        "### Checking The Shape and Attributes of Both the Data Sets"
      ]
    },
    {
      "cell_type": "code",
      "metadata": {
        "id": "luK8WSeN9j4M",
        "colab_type": "code",
        "colab": {
          "base_uri": "https://localhost:8080/",
          "height": 173
        },
        "outputId": "12f72112-08e5-415f-fefb-3178497101a5"
      },
      "source": [
        "df_true.describe().transpose()"
      ],
      "execution_count": 3,
      "outputs": [
        {
          "output_type": "execute_result",
          "data": {
            "text/html": [
              "<div>\n",
              "<style scoped>\n",
              "    .dataframe tbody tr th:only-of-type {\n",
              "        vertical-align: middle;\n",
              "    }\n",
              "\n",
              "    .dataframe tbody tr th {\n",
              "        vertical-align: top;\n",
              "    }\n",
              "\n",
              "    .dataframe thead th {\n",
              "        text-align: right;\n",
              "    }\n",
              "</style>\n",
              "<table border=\"1\" class=\"dataframe\">\n",
              "  <thead>\n",
              "    <tr style=\"text-align: right;\">\n",
              "      <th></th>\n",
              "      <th>count</th>\n",
              "      <th>unique</th>\n",
              "      <th>top</th>\n",
              "      <th>freq</th>\n",
              "    </tr>\n",
              "  </thead>\n",
              "  <tbody>\n",
              "    <tr>\n",
              "      <th>title</th>\n",
              "      <td>21417</td>\n",
              "      <td>20826</td>\n",
              "      <td>Factbox: Trump fills top jobs for his administ...</td>\n",
              "      <td>14</td>\n",
              "    </tr>\n",
              "    <tr>\n",
              "      <th>text</th>\n",
              "      <td>21417</td>\n",
              "      <td>21192</td>\n",
              "      <td>(Reuters) - Highlights for U.S. President Dona...</td>\n",
              "      <td>8</td>\n",
              "    </tr>\n",
              "    <tr>\n",
              "      <th>subject</th>\n",
              "      <td>21417</td>\n",
              "      <td>2</td>\n",
              "      <td>politicsNews</td>\n",
              "      <td>11272</td>\n",
              "    </tr>\n",
              "    <tr>\n",
              "      <th>date</th>\n",
              "      <td>21417</td>\n",
              "      <td>716</td>\n",
              "      <td>December 20, 2017</td>\n",
              "      <td>182</td>\n",
              "    </tr>\n",
              "  </tbody>\n",
              "</table>\n",
              "</div>"
            ],
            "text/plain": [
              "         count unique                                                top   freq\n",
              "title    21417  20826  Factbox: Trump fills top jobs for his administ...     14\n",
              "text     21417  21192  (Reuters) - Highlights for U.S. President Dona...      8\n",
              "subject  21417      2                                       politicsNews  11272\n",
              "date     21417    716                                 December 20, 2017     182"
            ]
          },
          "metadata": {
            "tags": []
          },
          "execution_count": 3
        }
      ]
    },
    {
      "cell_type": "code",
      "metadata": {
        "id": "Fj8n4JYj9j4g",
        "colab_type": "code",
        "colab": {
          "base_uri": "https://localhost:8080/",
          "height": 173
        },
        "outputId": "e3382309-4562-4155-95d8-0fb8d835e71c"
      },
      "source": [
        "df_fake.describe().transpose()"
      ],
      "execution_count": 4,
      "outputs": [
        {
          "output_type": "execute_result",
          "data": {
            "text/html": [
              "<div>\n",
              "<style scoped>\n",
              "    .dataframe tbody tr th:only-of-type {\n",
              "        vertical-align: middle;\n",
              "    }\n",
              "\n",
              "    .dataframe tbody tr th {\n",
              "        vertical-align: top;\n",
              "    }\n",
              "\n",
              "    .dataframe thead th {\n",
              "        text-align: right;\n",
              "    }\n",
              "</style>\n",
              "<table border=\"1\" class=\"dataframe\">\n",
              "  <thead>\n",
              "    <tr style=\"text-align: right;\">\n",
              "      <th></th>\n",
              "      <th>count</th>\n",
              "      <th>unique</th>\n",
              "      <th>top</th>\n",
              "      <th>freq</th>\n",
              "    </tr>\n",
              "  </thead>\n",
              "  <tbody>\n",
              "    <tr>\n",
              "      <th>title</th>\n",
              "      <td>23481</td>\n",
              "      <td>17903</td>\n",
              "      <td>MEDIA IGNORES Time That Bill Clinton FIRED His...</td>\n",
              "      <td>6</td>\n",
              "    </tr>\n",
              "    <tr>\n",
              "      <th>text</th>\n",
              "      <td>23481</td>\n",
              "      <td>17455</td>\n",
              "      <td></td>\n",
              "      <td>626</td>\n",
              "    </tr>\n",
              "    <tr>\n",
              "      <th>subject</th>\n",
              "      <td>23481</td>\n",
              "      <td>6</td>\n",
              "      <td>News</td>\n",
              "      <td>9050</td>\n",
              "    </tr>\n",
              "    <tr>\n",
              "      <th>date</th>\n",
              "      <td>23481</td>\n",
              "      <td>1681</td>\n",
              "      <td>May 10, 2017</td>\n",
              "      <td>46</td>\n",
              "    </tr>\n",
              "  </tbody>\n",
              "</table>\n",
              "</div>"
            ],
            "text/plain": [
              "         count unique                                                top  freq\n",
              "title    23481  17903  MEDIA IGNORES Time That Bill Clinton FIRED His...     6\n",
              "text     23481  17455                                                      626\n",
              "subject  23481      6                                               News  9050\n",
              "date     23481   1681                                       May 10, 2017    46"
            ]
          },
          "metadata": {
            "tags": []
          },
          "execution_count": 4
        }
      ]
    },
    {
      "cell_type": "markdown",
      "metadata": {
        "id": "KkvQaYwK9j4u",
        "colab_type": "text"
      },
      "source": [
        "### Adding a Column in Both Dataframe: True [1] or Fake News [0]\n",
        "#### This column will be the target variable."
      ]
    },
    {
      "cell_type": "code",
      "metadata": {
        "id": "YBIsE5vJ9j4y",
        "colab_type": "code",
        "colab": {}
      },
      "source": [
        "df_true['News'] = 1\n",
        "df_fake['News'] = 0"
      ],
      "execution_count": 5,
      "outputs": []
    },
    {
      "cell_type": "markdown",
      "metadata": {
        "id": "-ezSQ5Qw9j4-",
        "colab_type": "text"
      },
      "source": [
        "### Combining Both Data Sets"
      ]
    },
    {
      "cell_type": "code",
      "metadata": {
        "id": "jgWtGQfd9j4_",
        "colab_type": "code",
        "colab": {}
      },
      "source": [
        "df_combine = pd.concat([df_true, df_fake]).reset_index(drop = True)"
      ],
      "execution_count": 6,
      "outputs": []
    },
    {
      "cell_type": "markdown",
      "metadata": {
        "id": "ompdtMbv9j5M",
        "colab_type": "text"
      },
      "source": [
        "### Dropping Unnecessary Columns\n",
        "#### Dropping subject and date column as we don't need them for this project."
      ]
    },
    {
      "cell_type": "code",
      "metadata": {
        "id": "JwE7WCdy9j5Q",
        "colab_type": "code",
        "colab": {}
      },
      "source": [
        "df_combine.drop(['subject', 'date'], axis = 1, inplace = True )"
      ],
      "execution_count": 7,
      "outputs": []
    },
    {
      "cell_type": "markdown",
      "metadata": {
        "id": "X6d9ZThf9j52",
        "colab_type": "text"
      },
      "source": [
        "### Shuffle the Documents, So That Data Set is a Mixture of True and Fake News"
      ]
    },
    {
      "cell_type": "code",
      "metadata": {
        "id": "WwGwrDKx9j54",
        "colab_type": "code",
        "colab": {}
      },
      "source": [
        "df_combine = shuffle(df_combine, random_state = 43)"
      ],
      "execution_count": 9,
      "outputs": []
    },
    {
      "cell_type": "markdown",
      "metadata": {
        "id": "jW8EWaXDfqTx",
        "colab_type": "text"
      },
      "source": [
        "### Checking the shuffled data set."
      ]
    },
    {
      "cell_type": "code",
      "metadata": {
        "id": "PDqnYrfb9j6C",
        "colab_type": "code",
        "colab": {
          "base_uri": "https://localhost:8080/",
          "height": 359
        },
        "outputId": "1a2331c1-9c38-4e80-9069-bbb3ec54cd28"
      },
      "source": [
        "df_combine.head(10)"
      ],
      "execution_count": 10,
      "outputs": [
        {
          "output_type": "execute_result",
          "data": {
            "text/html": [
              "<div>\n",
              "<style scoped>\n",
              "    .dataframe tbody tr th:only-of-type {\n",
              "        vertical-align: middle;\n",
              "    }\n",
              "\n",
              "    .dataframe tbody tr th {\n",
              "        vertical-align: top;\n",
              "    }\n",
              "\n",
              "    .dataframe thead th {\n",
              "        text-align: right;\n",
              "    }\n",
              "</style>\n",
              "<table border=\"1\" class=\"dataframe\">\n",
              "  <thead>\n",
              "    <tr style=\"text-align: right;\">\n",
              "      <th></th>\n",
              "      <th>title</th>\n",
              "      <th>text</th>\n",
              "      <th>News</th>\n",
              "    </tr>\n",
              "  </thead>\n",
              "  <tbody>\n",
              "    <tr>\n",
              "      <th>31481</th>\n",
              "      <td>WATCH KARMA IN ACTION: CNN GETS HIT With Tear ...</td>\n",
              "      <td>The timing couldn t have been better. Just as ...</td>\n",
              "      <td>0</td>\n",
              "    </tr>\n",
              "    <tr>\n",
              "      <th>25743</th>\n",
              "      <td>Rudy Giuliani’s Daughter Announces She’s Back...</td>\n",
              "      <td>Trump s biggest (and most insane) surrogate Ru...</td>\n",
              "      <td>0</td>\n",
              "    </tr>\n",
              "    <tr>\n",
              "      <th>12048</th>\n",
              "      <td>Philippines says Maoist rebels attacked soldie...</td>\n",
              "      <td>MANILA (Reuters) - Maoist rebels attacked sold...</td>\n",
              "      <td>1</td>\n",
              "    </tr>\n",
              "    <tr>\n",
              "      <th>17015</th>\n",
              "      <td>Fragment of Florence basilica falls and kills ...</td>\n",
              "      <td>FLORENCE, Italy (Reuters) - A stone fragment, ...</td>\n",
              "      <td>1</td>\n",
              "    </tr>\n",
              "    <tr>\n",
              "      <th>9241</th>\n",
              "      <td>Sanders plants seeds for a lasting U.S. progre...</td>\n",
              "      <td>WASHINGTON (Reuters) - Bernie Sanders’ upstart...</td>\n",
              "      <td>1</td>\n",
              "    </tr>\n",
              "    <tr>\n",
              "      <th>1296</th>\n",
              "      <td>U.S. Attorney General Sessions urges crackdown...</td>\n",
              "      <td>FALLS CHURCH, Va.,  (Reuters) - U.S. Attorney ...</td>\n",
              "      <td>1</td>\n",
              "    </tr>\n",
              "    <tr>\n",
              "      <th>43781</th>\n",
              "      <td>Dyer: ‘LA Times ‘Fake News’ Article is an Atta...</td>\n",
              "      <td>Jay Dyer 21st Century WireAccording to a recen...</td>\n",
              "      <td>0</td>\n",
              "    </tr>\n",
              "    <tr>\n",
              "      <th>44679</th>\n",
              "      <td>Boiler Room EP #74 – Dustification &amp; The Crook...</td>\n",
              "      <td>Tune in to the Alternate Current Radio Network...</td>\n",
              "      <td>0</td>\n",
              "    </tr>\n",
              "    <tr>\n",
              "      <th>12472</th>\n",
              "      <td>Make EU gentleman's agreement with Britain bin...</td>\n",
              "      <td>BRUSSELS (Reuters) - The European Parliament w...</td>\n",
              "      <td>1</td>\n",
              "    </tr>\n",
              "    <tr>\n",
              "      <th>31823</th>\n",
              "      <td>BREAKING NEWS: OBAMA’S AG Loretta Lynch Ordere...</td>\n",
              "      <td>Is anyone really shocked that another fake  Tr...</td>\n",
              "      <td>0</td>\n",
              "    </tr>\n",
              "  </tbody>\n",
              "</table>\n",
              "</div>"
            ],
            "text/plain": [
              "                                                   title  ... News\n",
              "31481  WATCH KARMA IN ACTION: CNN GETS HIT With Tear ...  ...    0\n",
              "25743   Rudy Giuliani’s Daughter Announces She’s Back...  ...    0\n",
              "12048  Philippines says Maoist rebels attacked soldie...  ...    1\n",
              "17015  Fragment of Florence basilica falls and kills ...  ...    1\n",
              "9241   Sanders plants seeds for a lasting U.S. progre...  ...    1\n",
              "1296   U.S. Attorney General Sessions urges crackdown...  ...    1\n",
              "43781  Dyer: ‘LA Times ‘Fake News’ Article is an Atta...  ...    0\n",
              "44679  Boiler Room EP #74 – Dustification & The Crook...  ...    0\n",
              "12472  Make EU gentleman's agreement with Britain bin...  ...    1\n",
              "31823  BREAKING NEWS: OBAMA’S AG Loretta Lynch Ordere...  ...    0\n",
              "\n",
              "[10 rows x 3 columns]"
            ]
          },
          "metadata": {
            "tags": []
          },
          "execution_count": 10
        }
      ]
    },
    {
      "cell_type": "markdown",
      "metadata": {
        "id": "BhMWG_Az9j6O",
        "colab_type": "text"
      },
      "source": [
        "## Text Pre-Processing\n",
        "#### This cell contains all the techniques that we have used for cleaning the textual data. Adding to that we also tokenize the words."
      ]
    },
    {
      "cell_type": "code",
      "metadata": {
        "id": "SL16srxA9j6R",
        "colab_type": "code",
        "colab": {}
      },
      "source": [
        "title_list = df_combine['title'].to_list()\n",
        "text_list = df_combine['text'].to_list()\n",
        "\n",
        "#Replacing '\\n' Character or Multiple White Spaces With Single White Space.\n",
        "spaces = re.compile(\"\\s+\")\n",
        "for item in title_list:\n",
        "    item.replace('\\n', ' ')\n",
        "    spaces.sub(\" \", item)    \n",
        "for item in text_list:\n",
        "    item.replace('\\n', ' ')\n",
        "    spaces.sub(\" \", item)\n",
        "\n",
        "#Word Tokenization\n",
        "title_list = [nltk.word_tokenize(item) for item in title_list]\n",
        "text_list = [nltk.word_tokenize(item) for item in text_list]\n",
        "\n",
        "#Lower Case\n",
        "title_lower = []\n",
        "for item in title_list:\n",
        "    lower_words = [w.lower() for w in item]\n",
        "    title_lower.append(lower_words)\n",
        "text_lower = []\n",
        "for item in text_list:\n",
        "    lower_words = [w.lower() for w in item]\n",
        "    text_lower.append(lower_words)\n",
        "\n",
        "#Removing Punctuation and Special Characters\n",
        "#Defining a function that identifies words without alphabets\n",
        "def alpha_filter(w):\n",
        "    pattern = re.compile('^[^a-z]+$')\n",
        "    if (pattern.match(w)):\n",
        "        return True\n",
        "    else:\n",
        "        return False    \n",
        "#Filtering out the words without any alphabet    \n",
        "title_filter = []\n",
        "for item in title_lower:\n",
        "    filter_words = [w for w in item if not alpha_filter(w)]\n",
        "    title_filter.append(filter_words)    \n",
        "text_filter = []\n",
        "for item in text_lower:\n",
        "    filter_words = [w for w in item if not alpha_filter(w)]\n",
        "    text_filter.append(filter_words)\n",
        "\n",
        "#Removing Stopwords\n",
        "stopwords = nltk.corpus.stopwords.words('english')\n",
        "morestopwords = ['could','would','might','must','need','sha','wo','y',\"'s\",\"'d\",\"'ll\",\"'t\",\"'m\",\"'re\",\"'ve\", \"n't\", \"let\", \"also\", \"shall\"]\n",
        "stopwords = stopwords + morestopwords\n",
        "#Filtering out the stop words    \n",
        "title_stop = []\n",
        "for item in title_filter:\n",
        "    stop_words = [w for w in item if not w in stopwords]\n",
        "    title_stop.append(stop_words)    \n",
        "text_stop = []\n",
        "for item in text_filter:\n",
        "    stop_words = [w for w in item if not w in stopwords]\n",
        "    text_stop.append(stop_words)"
      ],
      "execution_count": 11,
      "outputs": []
    },
    {
      "cell_type": "markdown",
      "metadata": {
        "id": "K6KrVO9hNQHm",
        "colab_type": "text"
      },
      "source": [
        "### Combining into a New DataFrame and then Making a Train-Test Split."
      ]
    },
    {
      "cell_type": "code",
      "metadata": {
        "id": "Q3blNVIMNbwk",
        "colab_type": "code",
        "colab": {}
      },
      "source": [
        "target_df = pd.DataFrame(df_combine.News)\n",
        "\n",
        "processed_df = pd.DataFrame(list(zip(title_stop, text_stop)), columns =['Title', 'Text'])\n",
        "\n",
        "x_train, x_test, y_train, y_test = train_test_split(processed_df, target_df, test_size=0.30, random_state=73)"
      ],
      "execution_count": 12,
      "outputs": []
    },
    {
      "cell_type": "markdown",
      "metadata": {
        "id": "6n4SIAggL1jP",
        "colab_type": "text"
      },
      "source": [
        "### Most Important Words as Features\n",
        "#### This next cell gives us the most frequent words. Based on the necessity and available RAM, we choose 500 words from title column and 1000 words from text column."
      ]
    },
    {
      "cell_type": "code",
      "metadata": {
        "id": "wijVjrHML0Lq",
        "colab_type": "code",
        "colab": {}
      },
      "source": [
        "train_title = x_train['Title'].to_list()\n",
        "train_text = x_train['Text'].to_list()\n",
        "\n",
        "#Flattenning the Lists\n",
        "title_flat = [item for file in train_title for item in file]\n",
        "text_flat = [item for file in train_text for item in file]\n",
        "\n",
        "#Unigram Normalized Frequency: Top Frequent Words\n",
        "#Generating Dictionary of Words and their frequency\n",
        "fdist_title = FreqDist(title_flat)\n",
        "fdist_text = FreqDist(text_flat)\n",
        "\n",
        "#Selecting top words with respect to their frequency\n",
        "topkeys_title = fdist_title.most_common(500)\n",
        "topkeys_text = fdist_text.most_common(1000)\n",
        "\n",
        "#Creating lists of top words only\n",
        "title_features = []\n",
        "for pair in topkeys_title:\n",
        "    title_features.append(pair[0])\n",
        "text_features = []\n",
        "for pair in topkeys_text:\n",
        "    text_features.append(pair[0])"
      ],
      "execution_count": 13,
      "outputs": []
    },
    {
      "cell_type": "markdown",
      "metadata": {
        "id": "Uz9wIzvv9j7p",
        "colab_type": "text"
      },
      "source": [
        "### Features Extraction - Function\n",
        "#### In this next cell we define a function that will return a dataframe will features as columns and every cell as a binary value representing the presence of given word in corresponding document."
      ]
    },
    {
      "cell_type": "code",
      "metadata": {
        "id": "DEsENrzU9j7r",
        "colab_type": "code",
        "colab": {}
      },
      "source": [
        "def featureGenerator(title_list_1, text_list_2, title_words, text_words):\n",
        "\n",
        "    #Creating a list of dictionaries where number of dictionaries is the number of words we selected as our top words.\n",
        "    def document_features(document, word_features):\n",
        "        document_words = set(document)\n",
        "        features = {}\n",
        "        for word in word_features:\n",
        "            if word in document_words:\n",
        "                features['V_{}'.format(word)] = 1\n",
        "            else:\n",
        "                features['V_{}'.format(word)] = 0\n",
        "        return features\n",
        "\n",
        "    #Define the feature sets for the documents.\n",
        "    title_set_1 = []\n",
        "    for d in title_list_1:\n",
        "        title_set_1.append(document_features(d,title_words))\n",
        "    text_set_2 = []\n",
        "    for d in text_list_2:\n",
        "        text_set_2.append(document_features(d,text_words))\n",
        "\n",
        "    title_pd = pd.DataFrame(title_set_1)\n",
        "    text_pd = pd.DataFrame(text_set_2)\n",
        "    features_pd = pd.concat([title_pd, text_pd], axis=1)\n",
        "\n",
        "    return features_pd"
      ],
      "execution_count": 14,
      "outputs": []
    },
    {
      "cell_type": "markdown",
      "metadata": {
        "id": "TgtOXBme6mzb",
        "colab_type": "text"
      },
      "source": [
        "### Training and Testing Feature Sets"
      ]
    },
    {
      "cell_type": "code",
      "metadata": {
        "id": "upVOPGXzP2lC",
        "colab_type": "code",
        "colab": {}
      },
      "source": [
        "test_title = x_test['Title'].to_list()\n",
        "test_text = x_test['Text'].to_list()\n",
        "\n",
        "train_pd = featureGenerator(train_title, train_text, title_features, text_features)\n",
        "test_pd = featureGenerator(test_title, test_text, title_features, text_features)"
      ],
      "execution_count": 15,
      "outputs": []
    },
    {
      "cell_type": "markdown",
      "metadata": {
        "id": "d9x3AZVHBhNq",
        "colab_type": "text"
      },
      "source": [
        "## Machine Learning Models\n",
        "### 1. Logistic Regression\n",
        "#### Fitting the baseline logit model over the training dataset."
      ]
    },
    {
      "cell_type": "code",
      "metadata": {
        "id": "RnnxagEIBguE",
        "colab_type": "code",
        "colab": {}
      },
      "source": [
        "from sklearn.linear_model import LogisticRegression\n",
        "\n",
        "logit_R = LogisticRegression().fit(train_pd, y_train)"
      ],
      "execution_count": 16,
      "outputs": []
    },
    {
      "cell_type": "markdown",
      "metadata": {
        "id": "6soSHAOKg0pm",
        "colab_type": "text"
      },
      "source": [
        "#### Using the baseline model, making the predictions on the test data and running the classification report.\n",
        "#### Classification report gives us precision, recall, f1-measure and respective accuracies for the given classification task. "
      ]
    },
    {
      "cell_type": "code",
      "metadata": {
        "id": "VOdsDbleHEnp",
        "colab_type": "code",
        "colab": {
          "base_uri": "https://localhost:8080/",
          "height": 170
        },
        "outputId": "4c246273-5232-4080-e8f7-bead39578545"
      },
      "source": [
        "predicted_values = logit_R.predict(test_pd)\n",
        "print(classification_report(y_test, predicted_values))"
      ],
      "execution_count": 17,
      "outputs": [
        {
          "output_type": "stream",
          "text": [
            "              precision    recall  f1-score   support\n",
            "\n",
            "           0       1.00      1.00      1.00      7051\n",
            "           1       1.00      1.00      1.00      6419\n",
            "\n",
            "    accuracy                           1.00     13470\n",
            "   macro avg       1.00      1.00      1.00     13470\n",
            "weighted avg       1.00      1.00      1.00     13470\n",
            "\n"
          ],
          "name": "stdout"
        }
      ]
    },
    {
      "cell_type": "markdown",
      "metadata": {
        "id": "Dcn2rAkouJH2",
        "colab_type": "text"
      },
      "source": [
        "### Feature Importance: Logistic Regression\n",
        "#### Finding the words (unigrams) that affects the predictions the most."
      ]
    },
    {
      "cell_type": "code",
      "metadata": {
        "id": "Df1Jc3nBed6g",
        "colab_type": "code",
        "colab": {
          "base_uri": "https://localhost:8080/",
          "height": 419
        },
        "outputId": "b1a3465c-cdd1-4cfe-d35e-f547be2cb136"
      },
      "source": [
        "cols = train_pd.columns\n",
        "w = pd.DataFrame(list(zip(cols, [x for x in logit_R.coef_.tolist()[0]])),\n",
        "            columns = ['feature','LR']).sort_values('LR',ascending=False)\n",
        "\n",
        "w"
      ],
      "execution_count": 18,
      "outputs": [
        {
          "output_type": "execute_result",
          "data": {
            "text/html": [
              "<div>\n",
              "<style scoped>\n",
              "    .dataframe tbody tr th:only-of-type {\n",
              "        vertical-align: middle;\n",
              "    }\n",
              "\n",
              "    .dataframe tbody tr th {\n",
              "        vertical-align: top;\n",
              "    }\n",
              "\n",
              "    .dataframe thead th {\n",
              "        text-align: right;\n",
              "    }\n",
              "</style>\n",
              "<table border=\"1\" class=\"dataframe\">\n",
              "  <thead>\n",
              "    <tr style=\"text-align: right;\">\n",
              "      <th></th>\n",
              "      <th>feature</th>\n",
              "      <th>LR</th>\n",
              "    </tr>\n",
              "  </thead>\n",
              "  <tbody>\n",
              "    <tr>\n",
              "      <th>508</th>\n",
              "      <td>V_reuters</td>\n",
              "      <td>9.299588</td>\n",
              "    </tr>\n",
              "    <tr>\n",
              "      <th>2</th>\n",
              "      <td>V_u.s.</td>\n",
              "      <td>1.094678</td>\n",
              "    </tr>\n",
              "    <tr>\n",
              "      <th>3</th>\n",
              "      <td>V_says</td>\n",
              "      <td>1.019739</td>\n",
              "    </tr>\n",
              "    <tr>\n",
              "      <th>509</th>\n",
              "      <td>V_donald</td>\n",
              "      <td>1.016845</td>\n",
              "    </tr>\n",
              "    <tr>\n",
              "      <th>98</th>\n",
              "      <td>V_factbox</td>\n",
              "      <td>0.945713</td>\n",
              "    </tr>\n",
              "    <tr>\n",
              "      <th>...</th>\n",
              "      <td>...</td>\n",
              "      <td>...</td>\n",
              "    </tr>\n",
              "    <tr>\n",
              "      <th>512</th>\n",
              "      <td>V_obama</td>\n",
              "      <td>-1.167211</td>\n",
              "    </tr>\n",
              "    <tr>\n",
              "      <th>598</th>\n",
              "      <td>V_image</td>\n",
              "      <td>-1.799763</td>\n",
              "    </tr>\n",
              "    <tr>\n",
              "      <th>1</th>\n",
              "      <td>V_video</td>\n",
              "      <td>-2.078767</td>\n",
              "    </tr>\n",
              "    <tr>\n",
              "      <th>579</th>\n",
              "      <td>V_via</td>\n",
              "      <td>-2.227045</td>\n",
              "    </tr>\n",
              "    <tr>\n",
              "      <th>22</th>\n",
              "      <td>V_breaking</td>\n",
              "      <td>-2.809824</td>\n",
              "    </tr>\n",
              "  </tbody>\n",
              "</table>\n",
              "<p>1500 rows × 2 columns</p>\n",
              "</div>"
            ],
            "text/plain": [
              "        feature        LR\n",
              "508   V_reuters  9.299588\n",
              "2        V_u.s.  1.094678\n",
              "3        V_says  1.019739\n",
              "509    V_donald  1.016845\n",
              "98    V_factbox  0.945713\n",
              "..          ...       ...\n",
              "512     V_obama -1.167211\n",
              "598     V_image -1.799763\n",
              "1       V_video -2.078767\n",
              "579       V_via -2.227045\n",
              "22   V_breaking -2.809824\n",
              "\n",
              "[1500 rows x 2 columns]"
            ]
          },
          "metadata": {
            "tags": []
          },
          "execution_count": 18
        }
      ]
    },
    {
      "cell_type": "markdown",
      "metadata": {
        "id": "EUgI73iAuV5d",
        "colab_type": "text"
      },
      "source": [
        "### Dropping Most Important Column\n",
        "#### We observe that reuters word is way more effective than any other word in predicting. This might lead to overfitting of the model. Hence, we delete that variable."
      ]
    },
    {
      "cell_type": "code",
      "metadata": {
        "id": "mZkNno62iVTC",
        "colab_type": "code",
        "colab": {}
      },
      "source": [
        "train_pd = train_pd.drop(['V_reuters'], axis = 1)\n",
        "test_pd = test_pd.drop(['V_reuters'], axis = 1)"
      ],
      "execution_count": 19,
      "outputs": []
    },
    {
      "cell_type": "markdown",
      "metadata": {
        "id": "DrR8V-RQumqE",
        "colab_type": "text"
      },
      "source": [
        "### Logistic Regression with Grid Search and Cross Validation\n",
        "#### Fine tuning the regularization parameters.\n",
        "#### Cross valiation will help in variety of test dataset. (test of generalization)"
      ]
    },
    {
      "cell_type": "code",
      "metadata": {
        "id": "fPckNoigujxK",
        "colab_type": "code",
        "colab": {
          "base_uri": "https://localhost:8080/",
          "height": 357
        },
        "outputId": "5c6c9c90-92be-48e2-c943-a602fe36421b"
      },
      "source": [
        "param_grid_logit = {'C':[0.01,0.1,1],'penalty':['l1','l2'],\n",
        "                 'solver':['newton-cg', 'lbfgs', 'liblinear'],\n",
        "                 'warm_start':[True,False]}\n",
        "\n",
        "grid_logit = GridSearchCV(estimator=LogisticRegression(), param_grid=param_grid_logit, scoring='accuracy',\n",
        "                       verbose=4,n_jobs=-1)\n",
        "\n",
        "grid_logit.fit(train_pd, y_train)"
      ],
      "execution_count": 20,
      "outputs": [
        {
          "output_type": "stream",
          "text": [
            "Fitting 5 folds for each of 36 candidates, totalling 180 fits\n"
          ],
          "name": "stdout"
        },
        {
          "output_type": "stream",
          "text": [
            "[Parallel(n_jobs=-1)]: Using backend LokyBackend with 2 concurrent workers.\n",
            "[Parallel(n_jobs=-1)]: Done  21 tasks      | elapsed:    5.1s\n",
            "[Parallel(n_jobs=-1)]: Done  94 tasks      | elapsed:  2.3min\n",
            "[Parallel(n_jobs=-1)]: Done 180 out of 180 | elapsed:  6.7min finished\n"
          ],
          "name": "stderr"
        },
        {
          "output_type": "execute_result",
          "data": {
            "text/plain": [
              "GridSearchCV(cv=None, error_score=nan,\n",
              "             estimator=LogisticRegression(C=1.0, class_weight=None, dual=False,\n",
              "                                          fit_intercept=True,\n",
              "                                          intercept_scaling=1, l1_ratio=None,\n",
              "                                          max_iter=100, multi_class='auto',\n",
              "                                          n_jobs=None, penalty='l2',\n",
              "                                          random_state=None, solver='lbfgs',\n",
              "                                          tol=0.0001, verbose=0,\n",
              "                                          warm_start=False),\n",
              "             iid='deprecated', n_jobs=-1,\n",
              "             param_grid={'C': [0.01, 0.1, 1], 'penalty': ['l1', 'l2'],\n",
              "                         'solver': ['newton-cg', 'lbfgs', 'liblinear'],\n",
              "                         'warm_start': [True, False]},\n",
              "             pre_dispatch='2*n_jobs', refit=True, return_train_score=False,\n",
              "             scoring='accuracy', verbose=4)"
            ]
          },
          "metadata": {
            "tags": []
          },
          "execution_count": 20
        }
      ]
    },
    {
      "cell_type": "markdown",
      "metadata": {
        "id": "_DXJN_O2h1iy",
        "colab_type": "text"
      },
      "source": [
        "#### Extracting the best regularization parameters."
      ]
    },
    {
      "cell_type": "code",
      "metadata": {
        "id": "2wBapPP3wsk_",
        "colab_type": "code",
        "colab": {
          "base_uri": "https://localhost:8080/",
          "height": 34
        },
        "outputId": "ad36f90b-138f-4124-9487-aa5ec2b14838"
      },
      "source": [
        "grid_logit.best_params_"
      ],
      "execution_count": 21,
      "outputs": [
        {
          "output_type": "execute_result",
          "data": {
            "text/plain": [
              "{'C': 0.1, 'penalty': 'l2', 'solver': 'newton-cg', 'warm_start': True}"
            ]
          },
          "metadata": {
            "tags": []
          },
          "execution_count": 21
        }
      ]
    },
    {
      "cell_type": "markdown",
      "metadata": {
        "id": "270lYCnIh7Rm",
        "colab_type": "text"
      },
      "source": [
        "#### Extracting the best accuracy score from the cross validator."
      ]
    },
    {
      "cell_type": "code",
      "metadata": {
        "id": "VbgFcrHxw051",
        "colab_type": "code",
        "colab": {
          "base_uri": "https://localhost:8080/",
          "height": 34
        },
        "outputId": "850f5581-7b3b-4c31-94bc-38de39c3e670"
      },
      "source": [
        "grid_logit.best_score_"
      ],
      "execution_count": 22,
      "outputs": [
        {
          "output_type": "execute_result",
          "data": {
            "text/plain": [
              "0.9845996368791654"
            ]
          },
          "metadata": {
            "tags": []
          },
          "execution_count": 22
        }
      ]
    },
    {
      "cell_type": "markdown",
      "metadata": {
        "id": "nx2HpiLkiB37",
        "colab_type": "text"
      },
      "source": [
        "#### Using the parameters building a tuned logistic regression model."
      ]
    },
    {
      "cell_type": "code",
      "metadata": {
        "id": "n5YVvtS5w7_D",
        "colab_type": "code",
        "colab": {}
      },
      "source": [
        "lg_tuned = LogisticRegression(C = 0.1, penalty = 'l2', solver = 'newton-cg')\n",
        "lg_tuned.fit(train_pd, y_train)\n",
        "lg_tuned_pred = lg_tuned.predict(test_pd)"
      ],
      "execution_count": 23,
      "outputs": []
    },
    {
      "cell_type": "markdown",
      "metadata": {
        "id": "JWxfHA2ViLI9",
        "colab_type": "text"
      },
      "source": [
        "#### Building a confusion matrix which returns the true positive, false positive, true negative and false negative values."
      ]
    },
    {
      "cell_type": "code",
      "metadata": {
        "id": "mFwdlvCfI5Ix",
        "colab_type": "code",
        "colab": {
          "base_uri": "https://localhost:8080/",
          "height": 268
        },
        "outputId": "4ab91839-fa67-465b-c31c-430ccdd81887"
      },
      "source": [
        "cfm = confusion_matrix(y_test, lg_tuned_pred)\n",
        "\n",
        "df_cfm = pd.DataFrame(data=cfm, columns=['Actual +ve', 'Actual -ve'], \n",
        "                                 index=['Predicted +ve', 'Predict -ve'])\n",
        "plot_cfm = sns.heatmap(df_cfm, annot=True, fmt='d', cmap='BrBG')"
      ],
      "execution_count": 24,
      "outputs": [
        {
          "output_type": "display_data",
          "data": {
            "image/png": "[encoded data removed]",
            "text/plain": [
              "<Figure size 432x288 with 2 Axes>"
            ]
          },
          "metadata": {
            "tags": [],
            "needs_background": "light"
          }
        }
      ]
    },
    {
      "cell_type": "markdown",
      "metadata": {
        "id": "yy7sv9mkiYW8",
        "colab_type": "text"
      },
      "source": [
        "#### Running a classification report over the predictions."
      ]
    },
    {
      "cell_type": "code",
      "metadata": {
        "id": "sJOr94smKXQu",
        "colab_type": "code",
        "colab": {
          "base_uri": "https://localhost:8080/",
          "height": 170
        },
        "outputId": "03443098-c186-41fe-9885-fe18d355526e"
      },
      "source": [
        "print(classification_report(y_test, lg_tuned_pred))"
      ],
      "execution_count": 25,
      "outputs": [
        {
          "output_type": "stream",
          "text": [
            "              precision    recall  f1-score   support\n",
            "\n",
            "           0       0.99      0.98      0.99      7051\n",
            "           1       0.98      0.99      0.98      6419\n",
            "\n",
            "    accuracy                           0.99     13470\n",
            "   macro avg       0.99      0.99      0.99     13470\n",
            "weighted avg       0.99      0.99      0.99     13470\n",
            "\n"
          ],
          "name": "stdout"
        }
      ]
    },
    {
      "cell_type": "markdown",
      "metadata": {
        "id": "5OXYsEOfMSVe",
        "colab_type": "text"
      },
      "source": [
        "### 2. Naive-Bayes Classifier\n",
        "#### Fitting the baseline model over the training dataset.\n"
      ]
    },
    {
      "cell_type": "code",
      "metadata": {
        "id": "czzA5xVLMWrs",
        "colab_type": "code",
        "colab": {}
      },
      "source": [
        "nbc = GaussianNB(priors=None, var_smoothing = 1e-09)\n",
        "nbc.fit(train_pd, y_train)\n",
        "nbc_pred = nbc.predict(test_pd)"
      ],
      "execution_count": 26,
      "outputs": []
    },
    {
      "cell_type": "markdown",
      "metadata": {
        "id": "EyGsIqs6izxy",
        "colab_type": "text"
      },
      "source": [
        "#### Running a classification report over the predictions."
      ]
    },
    {
      "cell_type": "code",
      "metadata": {
        "id": "6P-yVFvLN84s",
        "colab_type": "code",
        "colab": {
          "base_uri": "https://localhost:8080/",
          "height": 170
        },
        "outputId": "7ca1c5c4-9e25-4203-a7aa-d2e00b47bb04"
      },
      "source": [
        "print(classification_report(y_test, nbc_pred))"
      ],
      "execution_count": 27,
      "outputs": [
        {
          "output_type": "stream",
          "text": [
            "              precision    recall  f1-score   support\n",
            "\n",
            "           0       0.94      0.94      0.94      7051\n",
            "           1       0.93      0.93      0.93      6419\n",
            "\n",
            "    accuracy                           0.94     13470\n",
            "   macro avg       0.94      0.93      0.94     13470\n",
            "weighted avg       0.94      0.94      0.94     13470\n",
            "\n"
          ],
          "name": "stdout"
        }
      ]
    },
    {
      "cell_type": "markdown",
      "metadata": {
        "id": "d8oQkK8Ki4hu",
        "colab_type": "text"
      },
      "source": [
        "#### Building a confusion matrix which returns the true positive, false positive, true negative and false negative values."
      ]
    },
    {
      "cell_type": "code",
      "metadata": {
        "id": "60g2XP7XNwBh",
        "colab_type": "code",
        "colab": {
          "base_uri": "https://localhost:8080/",
          "height": 268
        },
        "outputId": "db2fec9c-578e-4b18-f4b9-c88560fc63e8"
      },
      "source": [
        "cfm = confusion_matrix(y_test, nbc_pred)\n",
        "\n",
        "df_cfm = pd.DataFrame(data=cfm, columns=['Actual +ve', 'Actual -ve'], \n",
        "                                 index=['Predicted +ve', 'Predict -ve'])\n",
        "plot_cfm = sns.heatmap(df_cfm, annot=True, fmt='d', cmap='BrBG')"
      ],
      "execution_count": 28,
      "outputs": [
        {
          "output_type": "display_data",
          "data": {
            "image/png": "[encoded data removed]",
            "text/plain": [
              "<Figure size 432x288 with 2 Axes>"
            ]
          },
          "metadata": {
            "tags": [],
            "needs_background": "light"
          }
        }
      ]
    },
    {
      "cell_type": "markdown",
      "metadata": {
        "id": "Fvj-W6xTOuth",
        "colab_type": "text"
      },
      "source": [
        "### 3. Random Forest Classifier\n",
        "#### Fitting the baseline model over the training dataset."
      ]
    },
    {
      "cell_type": "code",
      "metadata": {
        "id": "90c1jYhpOzWB",
        "colab_type": "code",
        "colab": {}
      },
      "source": [
        "rf = RandomForestClassifier()\n",
        "rf.fit(train_pd, y_train)\n",
        "rf_pred = rf.predict(test_pd)"
      ],
      "execution_count": 29,
      "outputs": []
    },
    {
      "cell_type": "markdown",
      "metadata": {
        "id": "84GqgYvZjCfu",
        "colab_type": "text"
      },
      "source": [
        "#### Running a classification report over the predictions."
      ]
    },
    {
      "cell_type": "code",
      "metadata": {
        "id": "n3JRhWsqPJwG",
        "colab_type": "code",
        "colab": {
          "base_uri": "https://localhost:8080/",
          "height": 170
        },
        "outputId": "1433935e-7e84-4f12-b8b4-5cecb0a8cc55"
      },
      "source": [
        "print(classification_report(y_test, rf_pred))"
      ],
      "execution_count": 30,
      "outputs": [
        {
          "output_type": "stream",
          "text": [
            "              precision    recall  f1-score   support\n",
            "\n",
            "           0       0.99      0.99      0.99      7051\n",
            "           1       0.99      0.99      0.99      6419\n",
            "\n",
            "    accuracy                           0.99     13470\n",
            "   macro avg       0.99      0.99      0.99     13470\n",
            "weighted avg       0.99      0.99      0.99     13470\n",
            "\n"
          ],
          "name": "stdout"
        }
      ]
    },
    {
      "cell_type": "markdown",
      "metadata": {
        "id": "IoZ7-9jfjFRG",
        "colab_type": "text"
      },
      "source": [
        "#### Fine tuning the hyperparameters and performing cross validation."
      ]
    },
    {
      "cell_type": "code",
      "metadata": {
        "id": "qIkL7NkCP5Xz",
        "colab_type": "code",
        "colab": {
          "base_uri": "https://localhost:8080/",
          "height": 476
        },
        "outputId": "3aeb83c8-6daa-4aec-fd68-12f365aff9c4"
      },
      "source": [
        "param_grid_rf = { 'criterion': ['gini', 'entropy'],\n",
        "                   'min_samples_leaf': [6],\n",
        "                   'min_samples_split': [10],\n",
        "                   'max_depth': [5, 10, 15],\n",
        "                   'max_features': ['auto'],\n",
        "                   'n_estimators': [200, 400, 600]}\n",
        "\n",
        "grid_rf = GridSearchCV(rf, param_grid_rf, cv=3, scoring='accuracy', n_jobs= -1, verbose = 2)\n",
        "grid_rf.fit(train_pd, y_train)"
      ],
      "execution_count": 31,
      "outputs": [
        {
          "output_type": "stream",
          "text": [
            "Fitting 3 folds for each of 18 candidates, totalling 54 fits\n"
          ],
          "name": "stdout"
        },
        {
          "output_type": "stream",
          "text": [
            "[Parallel(n_jobs=-1)]: Using backend LokyBackend with 2 concurrent workers.\n",
            "[Parallel(n_jobs=-1)]: Done  37 tasks      | elapsed:  8.0min\n",
            "[Parallel(n_jobs=-1)]: Done  54 out of  54 | elapsed: 13.3min finished\n"
          ],
          "name": "stderr"
        },
        {
          "output_type": "execute_result",
          "data": {
            "text/plain": [
              "GridSearchCV(cv=3, error_score=nan,\n",
              "             estimator=RandomForestClassifier(bootstrap=True, ccp_alpha=0.0,\n",
              "                                              class_weight=None,\n",
              "                                              criterion='gini', max_depth=None,\n",
              "                                              max_features='auto',\n",
              "                                              max_leaf_nodes=None,\n",
              "                                              max_samples=None,\n",
              "                                              min_impurity_decrease=0.0,\n",
              "                                              min_impurity_split=None,\n",
              "                                              min_samples_leaf=1,\n",
              "                                              min_samples_split=2,\n",
              "                                              min_weight_fraction_leaf=0.0,\n",
              "                                              n_estimators=100, n_jobs=None,\n",
              "                                              oob_score=False,\n",
              "                                              random_state=None, verbose=0,\n",
              "                                              warm_start=False),\n",
              "             iid='deprecated', n_jobs=-1,\n",
              "             param_grid={'criterion': ['gini', 'entropy'],\n",
              "                         'max_depth': [5, 10, 15], 'max_features': ['auto'],\n",
              "                         'min_samples_leaf': [6], 'min_samples_split': [10],\n",
              "                         'n_estimators': [200, 400, 600]},\n",
              "             pre_dispatch='2*n_jobs', refit=True, return_train_score=False,\n",
              "             scoring='accuracy', verbose=2)"
            ]
          },
          "metadata": {
            "tags": []
          },
          "execution_count": 31
        }
      ]
    },
    {
      "cell_type": "markdown",
      "metadata": {
        "id": "JYISASWmjQF_",
        "colab_type": "text"
      },
      "source": [
        "#### Extracting the best values of hyperparameters for the model."
      ]
    },
    {
      "cell_type": "code",
      "metadata": {
        "id": "-Lykny7UQGmb",
        "colab_type": "code",
        "colab": {
          "base_uri": "https://localhost:8080/",
          "height": 119
        },
        "outputId": "30c3f11a-0423-4cac-92e1-e805772e1f0f"
      },
      "source": [
        "grid_rf.best_params_"
      ],
      "execution_count": 32,
      "outputs": [
        {
          "output_type": "execute_result",
          "data": {
            "text/plain": [
              "{'criterion': 'gini',\n",
              " 'max_depth': 15,\n",
              " 'max_features': 'auto',\n",
              " 'min_samples_leaf': 6,\n",
              " 'min_samples_split': 10,\n",
              " 'n_estimators': 600}"
            ]
          },
          "metadata": {
            "tags": []
          },
          "execution_count": 32
        }
      ]
    },
    {
      "cell_type": "markdown",
      "metadata": {
        "id": "X430OLlGjX30",
        "colab_type": "text"
      },
      "source": [
        "#### Extracting the best accuracy score out of the cross validator."
      ]
    },
    {
      "cell_type": "code",
      "metadata": {
        "id": "zdSId7h5QNeR",
        "colab_type": "code",
        "colab": {
          "base_uri": "https://localhost:8080/",
          "height": 34
        },
        "outputId": "e0137754-7cdf-49b6-c586-b0e713618219"
      },
      "source": [
        "grid_rf.best_score_"
      ],
      "execution_count": 33,
      "outputs": [
        {
          "output_type": "execute_result",
          "data": {
            "text/plain": [
              "0.9684676085019728"
            ]
          },
          "metadata": {
            "tags": []
          },
          "execution_count": 33
        }
      ]
    },
    {
      "cell_type": "markdown",
      "metadata": {
        "id": "IpsiwvDajekZ",
        "colab_type": "text"
      },
      "source": [
        "#### Finding the best model from the cross validator and making predictions over the test data set."
      ]
    },
    {
      "cell_type": "code",
      "metadata": {
        "id": "T76dHa6MeQNw",
        "colab_type": "code",
        "colab": {}
      },
      "source": [
        "rf_tuned = grid_rf.best_estimator_\n",
        "rf_tuned_pred = rf_tuned.predict(test_pd)"
      ],
      "execution_count": 36,
      "outputs": []
    },
    {
      "cell_type": "markdown",
      "metadata": {
        "id": "a2s7t_uCjsKt",
        "colab_type": "text"
      },
      "source": [
        "#### Running a classification report over the predictions."
      ]
    },
    {
      "cell_type": "code",
      "metadata": {
        "id": "ZH44DIrSeokv",
        "colab_type": "code",
        "colab": {
          "base_uri": "https://localhost:8080/",
          "height": 170
        },
        "outputId": "8f6b421d-10e8-4a56-f0ce-b1d931f11531"
      },
      "source": [
        "print(classification_report(y_test, rf_tuned_pred))"
      ],
      "execution_count": 37,
      "outputs": [
        {
          "output_type": "stream",
          "text": [
            "              precision    recall  f1-score   support\n",
            "\n",
            "           0       0.98      0.96      0.97      7051\n",
            "           1       0.96      0.98      0.97      6419\n",
            "\n",
            "    accuracy                           0.97     13470\n",
            "   macro avg       0.97      0.97      0.97     13470\n",
            "weighted avg       0.97      0.97      0.97     13470\n",
            "\n"
          ],
          "name": "stdout"
        }
      ]
    },
    {
      "cell_type": "markdown",
      "metadata": {
        "id": "TeqrIOm6jtlt",
        "colab_type": "text"
      },
      "source": [
        "### END OF PROJECT"
      ]
    }
  ]
}